{
 "cells": [
  {
   "cell_type": "code",
   "execution_count": 20,
   "metadata": {},
   "outputs": [],
   "source": [
    "#Budget_file\n",
    "import os\n",
    "import csv\n",
    "\n",
    "csvpath = os.path.join(\"budget_data.csv\")\n",
    "\n",
    "with open(csvpath, newline='') as csvfile:\n",
    "    csvreader = csv.reader(csvfile, delimiter=',')    \n",
    "    header = next(csvreader)\n",
    "    \n",
    "    month_list = []\n",
    "    amt_list = []\n",
    "    amt_diff = []\n",
    "    for line in csvreader:\n",
    "        month = line[0]\n",
    "        month_list.append(month)\n",
    "        \n",
    "        amt = line[1]\n",
    "        amt_list.append(int(amt))\n",
    "    for i in range(len(amt_list)-1):\n",
    "        diff = amt_list[i+1]-amt_list[i]\n",
    "        amt_diff.append(int(diff))\n",
    "        ave_change = \"{:.2f}\".format(sum(amt_diff)/(len(amt_list)-1))\n",
    "    for j in range(len(amt_diff)):\n",
    "        if amt_diff[j]== max(amt_diff):\n",
    "            max_month = month_list[j+1]\n",
    "        if amt_diff[j]== min(amt_diff):\n",
    "            min_month = month_list[j+1]\n",
    "\n",
    "output = open(\"Results.txt\",\"w\")\n",
    "output.write(f\"Financial Analysis\\n----------------------------\\n\")\n",
    "output.write(f\"Total Months: {len(amt_list)}\\n\")\n",
    "output.write(f\"Total: ${sum(amt_list)}\\n\")\n",
    "output.write(f\"  Average  Change: ${ave_change}\\n\")\n",
    "output.write(f\"Greatest Increase in Profits: {max_month} (${max(amt_diff)})\\n\")\n",
    "output.write(f\"  Greatest Decrease in Profits: {min_month} (${min(amt_diff)})\\n\")\n",
    "output.close()\n"
   ]
  },
  {
   "cell_type": "code",
   "execution_count": null,
   "metadata": {},
   "outputs": [],
   "source": [
    "\"{:.2f}\".format(3.1415926)"
   ]
  },
  {
   "cell_type": "code",
   "execution_count": null,
   "metadata": {},
   "outputs": [],
   "source": []
  }
 ],
 "metadata": {
  "kernelspec": {
   "display_name": "Python 3",
   "language": "python",
   "name": "python3"
  },
  "language_info": {
   "codemirror_mode": {
    "name": "ipython",
    "version": 3
   },
   "file_extension": ".py",
   "mimetype": "text/x-python",
   "name": "python",
   "nbconvert_exporter": "python",
   "pygments_lexer": "ipython3",
   "version": "3.7.3"
  }
 },
 "nbformat": 4,
 "nbformat_minor": 4
}
