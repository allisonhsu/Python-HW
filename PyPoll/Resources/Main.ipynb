{
 "cells": [
  {
   "cell_type": "code",
   "execution_count": 36,
   "metadata": {},
   "outputs": [],
   "source": [
    "import os\n",
    "import csv\n",
    "\n",
    "in_file = os.path.join(\"election_data.csv\")\n",
    "out_file= os.path.join(\"Results.txt\")\n",
    "f = open(out_file,\"w\")\n",
    "\n",
    "list_candidate= []\n",
    "name_candidate=[]\n",
    "count_vote = []\n",
    "\n",
    "with open(in_file, newline='') as csvfile:\n",
    "    csvreader = csv.reader(csvfile, delimiter=',')\n",
    "    header = next(csvreader)\n",
    "    \n",
    "    f.write(f\"Election Results\\n-------------------------\\n\")\n",
    "    \n",
    "    for line in csvreader:\n",
    "        candidate = line[2]\n",
    "        list_candidate.append(candidate)\n",
    "        votes = len(list_candidate)\n",
    "    f.write(f\"Total Votes: {votes}\\n\")\n",
    "    f.write(f\"-------------------------\\n\")\n",
    "    \n",
    "    for i in list_candidate:\n",
    "        if i not in name_candidate:\n",
    "            name_candidate.append(i)\n",
    "    \n",
    "    for j in name_candidate:\n",
    "        count = list_candidate.count(j)\n",
    "        count_vote.append(int(count))\n",
    "        vote_per = \"{:.3f}\".format((count/ len(list_candidate))*100)\n",
    "        f.write(f\"{j}: {vote_per}% ({count})\\n\")\n",
    "    \n",
    "    for k in range(len(count_vote)):\n",
    "        if count_vote[k]== max(count_vote):\n",
    "            winner = name_candidate[k]\n",
    "    f.write(f\"-------------------------\\n\")\n",
    "    f.write (f\"Winner: {winner}\\n\")\n",
    "    f.write(f\"-------------------------\\n\")\n",
    "\n",
    "f.close()"
   ]
  },
  {
   "cell_type": "code",
   "execution_count": 33,
   "metadata": {},
   "outputs": [
    {
     "data": {
      "text/plain": [
       "'0.33'"
      ]
     },
     "execution_count": 33,
     "metadata": {},
     "output_type": "execute_result"
    }
   ],
   "source": []
  },
  {
   "cell_type": "code",
   "execution_count": null,
   "metadata": {},
   "outputs": [],
   "source": []
  }
 ],
 "metadata": {
  "kernelspec": {
   "display_name": "Python 3",
   "language": "python",
   "name": "python3"
  },
  "language_info": {
   "codemirror_mode": {
    "name": "ipython",
    "version": 3
   },
   "file_extension": ".py",
   "mimetype": "text/x-python",
   "name": "python",
   "nbconvert_exporter": "python",
   "pygments_lexer": "ipython3",
   "version": "3.7.3"
  }
 },
 "nbformat": 4,
 "nbformat_minor": 4
}
